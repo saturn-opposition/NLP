{
 "cells": [
  {
   "cell_type": "code",
   "execution_count": 5,
   "metadata": {},
   "outputs": [],
   "source": [
    "import pandas as pd\n",
    "import sklearn\n",
    "from sklearn.feature_extraction.text import CountVectorizer\n",
    "from sklearn.naive_bayes import MultinomialNB\n",
    "from sklearn.metrics  import accuracy_score, roc_auc_score, roc_curve\n",
    "import matplotlib.pyplot as plt\n",
    "import warnings\n",
    "warnings.filterwarnings(\"ignore\")"
   ]
  },
  {
   "cell_type": "code",
   "execution_count": 33,
   "metadata": {},
   "outputs": [],
   "source": [
    "# 绘制模型表现图\n",
    "def performance(y_true , predict , color = \"g\" , ann = True):\n",
    "    acc = accuracy_score(y_true , predict[:] > 0.5)\n",
    "    auc = roc_auc_score(y_true , predict[:])\n",
    "    fpr , tpr , thr = roc_curve(y_true , predict[:])\n",
    "    plt.figure()\n",
    "    plt.plot(fpr , tpr )"
   ]
  },
  {
   "cell_type": "markdown",
   "metadata": {},
   "source": [
    "# 读取数据"
   ]
  },
  {
   "cell_type": "code",
   "execution_count": 12,
   "metadata": {},
   "outputs": [
    {
     "name": "stdout",
     "output_type": "stream",
     "text": [
      "0       JUDAAI was a bold film by Raj Kanwar at it's t...\n",
      "1       This is one of Joan Crawford's best Talkies. I...\n",
      "2       After the usual chase scene, Jerry accidentall...\n",
      "3       I absolutely fail to see what is funny in this...\n",
      "4       Narratives  whether written, visual or poetic...\n",
      "5       I know sometimes its really really corny... Bu...\n",
      "6       Just came back from the first showing of Basic...\n",
      "7       Roommates Sugar and Bobby Lee are abducted by ...\n",
      "8       I thoroughly enjoyed this movie, but it is not...\n",
      "9       Wow... 5 more hours of Riget. Lars continues t...\n",
      "10      \\Birth of the Beatles\\\", for being a US televi...\n",
      "11      Outrage is pretty good movie! Robert Culp was ...\n",
      "12      Title: Zombie 3 (1988) <br /><br />Directors: ...\n",
      "13      As essential a part of British pop culture as ...\n",
      "14      A bunch of popular high school students play a...\n",
      "15      They probably could have skipped some of the b...\n",
      "16      I find it rather useless to comment on this \\m...\n",
      "17      In 1987, John Hughes wrote and directed 'Plane...\n",
      "18      Peter M. Cohen has a winner satire on the mati...\n",
      "19      Even if one didn't realize that Sellers was in...\n",
      "20      If they could get Ed Asner why didn't they get...\n",
      "21      For the first couple of seasons, I thought The...\n",
      "22      It's hard to believe people actually LIKE this...\n",
      "23      Guns blasting, buildings exploding, cars crash...\n",
      "24      I can't say how closely the film follows the n...\n",
      "25      My Take: A funny take on THE LION KING, posing...\n",
      "26      I will admit that I did not give this movie mu...\n",
      "27      \\Loonatics Unleashed \\\" is the worst thing tha...\n",
      "28      Our Song is a marvelous example of passionate,...\n",
      "29      I have a feeling that the Warners Bros Depress...\n",
      "                              ...                        \n",
      "1970    I saw this movie in the middle of the night, w...\n",
      "1971    Where to begin? <br /><br />#1 Amitabh's son, ...\n",
      "1972    A film destined to be on late-night TV long af...\n",
      "1973    There was not one original idea in this story....\n",
      "1974    Basic meaning of the story is a reality. Cruel...\n",
      "1975    There are probably more people afraid of the d...\n",
      "1976    When a comedy movie boasts its marvelous sound...\n",
      "1977    ...but the actress playing the daughter just d...\n",
      "1978    Perhaps not my genre but plot was horrible as ...\n",
      "1979    Do not see this movie if you value your mind. ...\n",
      "1980    In his brief 40 years on Earth, author Jack Lo...\n",
      "1981    I have no idea how anyone managed to stay awak...\n",
      "1982    This movie is not for everyone. You're either ...\n",
      "1983    this became a cult movie in chinese college st...\n",
      "1984    We watched this on \\The Wonderful World of Dis...\n",
      "1985    WWE's last PPV of 2006, proved to be a hit wit...\n",
      "1986    John Carpenter's Halloween<br /><br />Is it th...\n",
      "1987    Final Score (an average of various classic cin...\n",
      "1988    I'll admit that I don't expect much from a Rog...\n",
      "1989    Awlright, damn it, the MooCow will grudgingly ...\n",
      "1990    From start to finish, I laughed real hard thro...\n",
      "1991    normally i'm not the sort to be scared by horr...\n",
      "1992    \\Cinema is the ultimate pervert art. It doesn'...\n",
      "1993    An absolutely atrocious adaptation of the wond...\n",
      "1994    Well I have to say that I have waited for it t...\n",
      "1995    Canadian filmmaker Mary Harron is a cultural g...\n",
      "1996    The problem is that the movie rode in on the c...\n",
      "1997    There are no spoilers in this review because e...\n",
      "1998    I am a big 1930's movie fan and will watch mos...\n",
      "1999    This is absolutely the worst movie I've seen a...\n",
      "Name: review, Length: 2000, dtype: object\n"
     ]
    }
   ],
   "source": [
    "df_train = pd.read_csv(\"training.tsv\",sep='\\t',header=0)\n",
    "df_validation = pd.read_csv(\"validation.tsv\",sep='\\t',header=0)\n",
    "# print(df_validation.head(50))\n",
    "train_X = df_train['review']\n",
    "train_Y = df_train['sentiment']\n",
    "validate_X = df_validation['review']\n",
    "validate_Y = df_validation['sentiment']\n",
    "print(validate_X)"
   ]
  },
  {
   "cell_type": "markdown",
   "metadata": {},
   "source": [
    "# 预处理"
   ]
  },
  {
   "cell_type": "code",
   "execution_count": 54,
   "metadata": {},
   "outputs": [],
   "source": [
    "from nltk.corpus import stopwords\n",
    "import string\n",
    "from nltk.stem.wordnet import WordNetLemmatizer\n",
    "def clean(corpus):\n",
    "    stop = stopwords.words('english')\n",
    "    with open(r\"D:\\大创项目\\LDA\\stopwords\\ENstopwords.txt\", 'r', encoding='utf-8') as f:\n",
    "        for lines in f:\n",
    "            stop.append(lines)\n",
    "    stop = set(stop)\n",
    "   \n",
    "    exclude = set(string.punctuation)  # 标点符号\n",
    "    lemma = WordNetLemmatizer()  # 词干提取\n",
    "    clean_corpus = []\n",
    "    for doc in corpus:\n",
    "        stop_free = \" \".join([i for i in doc.lower().split() if (i not in stop) & (i.isalpha())])\n",
    "        punc_free = ''.join(ch for ch in stop_free if ch not in exclude)\n",
    "        normalized = \" \".join(lemma.lemmatize(word) for word in punc_free.split())\n",
    "        normalized_stop = \" \".join(word for word in normalized.split() if (word not in stop) & (word.isalpha()))\n",
    "        clean_corpus.append(normalized_stop)\n",
    "    return clean_corpus\n"
   ]
  },
  {
   "cell_type": "code",
   "execution_count": 55,
   "metadata": {},
   "outputs": [],
   "source": [
    "train_X = clean(train_X)\n",
    "validate_X = clean(validate_X)"
   ]
  },
  {
   "cell_type": "markdown",
   "metadata": {},
   "source": [
    "# 特征提取 "
   ]
  },
  {
   "cell_type": "code",
   "execution_count": 56,
   "metadata": {},
   "outputs": [],
   "source": [
    "# 词袋模型\n",
    "from sklearn.feature_extraction.text import CountVectorizer\n",
    "def bow_extractor(corpus, ngram_range=(1, 2)):  # ngram_range参数是指，将前后多少个词组合，构造新的词袋标签\n",
    "    vectorizer = CountVectorizer(ngram_range=ngram_range)  # min_df是指最小出现多少次的也算入词袋，本实验中因数据量较大，设为10\n",
    "    features = vectorizer.fit_transform(corpus)\n",
    "    return vectorizer, features\n",
    "\n",
    "\n",
    "# TF-IDF模型\n",
    "from sklearn.feature_extraction.text import TfidfVectorizer\n",
    "def tfidf_extractor(corpus, ngram_range=(1, 2)):\n",
    "    vectorizer = TfidfVectorizer(norm='l2', smooth_idf=True, use_idf=True, ngram_range=ngram_range)\n",
    "    features = vectorizer.fit_transform(corpus)\n",
    "    return vectorizer, features"
   ]
  },
  {
   "cell_type": "code",
   "execution_count": 57,
   "metadata": {},
   "outputs": [],
   "source": [
    "# 对训练数据/测试数据使用词袋模型，将文档转换为词袋向量\n",
    "bow_vectorizer, bow_train_features = bow_extractor(train_X)\n",
    "# 使用训练数据生成的词向量模型，将测试集转换为词袋向量\n",
    "bow_test_features = bow_vectorizer.transform(validate_X)\n",
    "tfidf_vectorizer, tfidf_train_features = tfidf_extractor(train_X)\n",
    "tfidf_test_features = tfidf_vectorizer.transform(validate_X)"
   ]
  },
  {
   "cell_type": "markdown",
   "metadata": {},
   "source": [
    "# 训练模型"
   ]
  },
  {
   "cell_type": "code",
   "execution_count": 37,
   "metadata": {},
   "outputs": [],
   "source": [
    "\n",
    "from sklearn import metrics\n",
    "import numpy as np\n",
    "# 作出混淆矩阵\n",
    "def get_metrics(true_labels, predicted_labels):\n",
    "    print('Accuracy:' + str(np.round(metrics.accuracy_score(true_labels, predicted_labels), 2)))\n",
    "    print('Percision:' + str(np.round(metrics.precision_score(true_labels, predicted_labels, average='weighted'), 2)))\n",
    "    print('Recall:' + str(np.round(metrics.recall_score(true_labels, predicted_labels, average='weighted'), 2)))\n",
    "    print('F1 Score:' + str(np.round(metrics.f1_score(true_labels, predicted_labels, average='weighted'), 2)))\n",
    "# 定义函数使用机器学习算法训练模型\n",
    "def train_predict_evaluate_model(classifier, train_features, train_labels, test_features, test_labels):\n",
    "    # 使用分类器训练数据\n",
    "    model = classifier.fit(train_features, train_labels)\n",
    "    # 使用训练好的模型对测试集进行预测\n",
    "    predictions = classifier.predict(test_features)\n",
    "    # 对模型表现进行评估\n",
    "    get_metrics(true_labels=test_labels, predicted_labels=predictions)\n",
    "    return predictions,model"
   ]
  },
  {
   "cell_type": "code",
   "execution_count": 58,
   "metadata": {},
   "outputs": [
    {
     "name": "stdout",
     "output_type": "stream",
     "text": [
      "Accuracy:0.84\n",
      "Percision:0.84\n",
      "Recall:0.84\n",
      "F1 Score:0.84\n",
      "Accuracy:0.84\n",
      "Percision:0.84\n",
      "Recall:0.84\n",
      "F1 Score:0.84\n",
      "Accuracy:0.85\n",
      "Percision:0.85\n",
      "Recall:0.85\n",
      "F1 Score:0.85\n",
      "Accuracy:0.86\n",
      "Percision:0.86\n",
      "Recall:0.86\n",
      "F1 Score:0.86\n"
     ]
    }
   ],
   "source": [
    "from sklearn.naive_bayes import MultinomialNB\n",
    "from sklearn.linear_model import SGDClassifier\n",
    "\n",
    "mnb = MultinomialNB()\n",
    "svm = SGDClassifier(loss='hinge', n_iter_no_change=50, alpha=0.0001)\n",
    "import pandas as pd\n",
    "mnb_bow_predictions,mnb_bow_model = train_predict_evaluate_model(classifier=mnb, train_features=bow_train_features,\n",
    "                                                   train_labels=train_Y, test_features=bow_test_features,\n",
    "                                                   test_labels=validate_Y)\n",
    "\n",
    "mnb_tfidf_predictions,mnb_tfidf_model = train_predict_evaluate_model(classifier=mnb, train_features=tfidf_train_features,\n",
    "                                                     train_labels=train_Y, test_features=tfidf_test_features,\n",
    "                                                     test_labels=validate_Y)\n",
    "\n",
    "svm_bow_predictions,svm_bow_model = train_predict_evaluate_model(classifier=svm, train_features=bow_train_features,\n",
    "                                                   train_labels=train_Y, test_features=bow_test_features,\n",
    "                                                   test_labels=validate_Y)\n",
    "\n",
    "svm_tfidf_predictions,svm_tfidf_model = train_predict_evaluate_model(classifier=svm, train_features=tfidf_train_features,\n",
    "                                                     train_labels=train_Y, test_features=tfidf_test_features,\n",
    "                                                     test_labels=validate_Y)\n",
    "\n"
   ]
  },
  {
   "cell_type": "markdown",
   "metadata": {},
   "source": [
    "# 模型评估"
   ]
  },
  {
   "cell_type": "code",
   "execution_count": 59,
   "metadata": {},
   "outputs": [
    {
     "name": "stdout",
     "output_type": "stream",
     "text": [
      "              precision    recall  f1-score   support\n",
      "\n",
      "           0       0.84      0.84      0.84      1003\n",
      "           1       0.84      0.84      0.84       997\n",
      "\n",
      "    accuracy                           0.84      2000\n",
      "   macro avg       0.84      0.84      0.84      2000\n",
      "weighted avg       0.84      0.84      0.84      2000\n",
      "\n",
      "              precision    recall  f1-score   support\n",
      "\n",
      "           0       0.85      0.84      0.84      1014\n",
      "           1       0.83      0.84      0.84       986\n",
      "\n",
      "    accuracy                           0.84      2000\n",
      "   macro avg       0.84      0.84      0.84      2000\n",
      "weighted avg       0.84      0.84      0.84      2000\n",
      "\n",
      "              precision    recall  f1-score   support\n",
      "\n",
      "           0       0.85      0.85      0.85       999\n",
      "           1       0.85      0.85      0.85      1001\n",
      "\n",
      "    accuracy                           0.85      2000\n",
      "   macro avg       0.85      0.85      0.85      2000\n",
      "weighted avg       0.85      0.85      0.85      2000\n",
      "\n",
      "              precision    recall  f1-score   support\n",
      "\n",
      "           0       0.83      0.88      0.85       940\n",
      "           1       0.89      0.84      0.86      1060\n",
      "\n",
      "    accuracy                           0.86      2000\n",
      "   macro avg       0.86      0.86      0.86      2000\n",
      "weighted avg       0.86      0.86      0.86      2000\n",
      "\n"
     ]
    },
    {
     "data": {
      "image/png": "[encoded data removed]",
      "text/plain": [
       "<Figure size 432x288 with 1 Axes>"
      ]
     },
     "metadata": {
      "needs_background": "light"
     },
     "output_type": "display_data"
    },
    {
     "data": {
      "image/png": "[encoded data removed]",
      "text/plain": [
       "<Figure size 432x288 with 1 Axes>"
      ]
     },
     "metadata": {
      "needs_background": "light"
     },
     "output_type": "display_data"
    },
    {
     "data": {
      "image/png": "[encoded data removed]",
      "text/plain": [
       "<Figure size 432x288 with 1 Axes>"
      ]
     },
     "metadata": {
      "needs_background": "light"
     },
     "output_type": "display_data"
    },
    {
     "data": {
      "image/png": "[encoded data removed]",
      "text/plain": [
       "<Figure size 432x288 with 1 Axes>"
      ]
     },
     "metadata": {
      "needs_background": "light"
     },
     "output_type": "display_data"
    }
   ],
   "source": [
    "from sklearn.metrics import classification_report\n",
    "report = classification_report(mnb_bow_predictions,validate_Y)\n",
    "print(report)\n",
    "performance(validate_Y,mnb_bow_predictions)\n",
    "\n",
    "report = classification_report(mnb_tfidf_predictions,validate_Y)\n",
    "print(report)\n",
    "performance(validate_Y,mnb_tfidf_predictions)\n",
    "\n",
    "report = classification_report(svm_bow_predictions,validate_Y)\n",
    "print(report)\n",
    "performance(validate_Y,svm_bow_predictions)\n",
    "\n",
    "report = classification_report(svm_tfidf_predictions,validate_Y)\n",
    "print(report)\n",
    "performance(validate_Y,svm_tfidf_predictions)\n",
    "\n",
    "from sklearn.externals import joblib\n",
    "joblib.dump(mnb_bow_model, 'mnb_bow.pkl')\n",
    "joblib.dump(mnb_tfidf_model, 'mnb_tfidf.pkl')\n",
    "joblib.dump(svm_bow_model, 'svm_bow.pkl')\n",
    "joblib.dump(svm_tfidf_model, 'svm_tfidf.pkl')\n",
    "\n",
    "import pickle\n",
    "tfidf_path = 'tfidf_feature.pkl'\n",
    "with open(tfidf_path, 'wb') as fw:\n",
    "    pickle.dump(tfidf_vectorizer, fw)\n",
    "\n",
    "bow_path = 'bow_feature.pkl'\n",
    "with open(bow_path, 'wb') as fw:\n",
    "    pickle.dump(bow_vectorizer, fw)"
   ]
  },
  {
   "cell_type": "code",
   "execution_count": 60,
   "metadata": {},
   "outputs": [
    {
     "name": "stdout",
     "output_type": "stream",
     "text": [
      "0    The fact that I did not like the music is a ve...\n",
      "1    This is actually a pretty bad film. The ideolo...\n",
      "2    Thankfully saw this on a plane to Singapore re...\n",
      "3    I'm watching this on the Sci-Fi channel right ...\n",
      "4    If you were brought up on a diet of gameshows ...\n",
      "5    Meryl Streep is such a genius. Well, at least ...\n",
      "6    The plot of 7EVENTY 5IVE involves college kids...\n",
      "7    I live in Missouri, so the direct effects of t...\n",
      "8    Excellent story about teenagers, leaders, high...\n",
      "9    This is one of those landmark films which need...\n",
      "Name: review, dtype: object\n"
     ]
    }
   ],
   "source": [
    "test_df = pd.read_csv(\"test.tsv\",sep='\\t',header=0)\n",
    "test_review = test_df['review']\n",
    "# print(test_review[0:10])"
   ]
  },
  {
   "cell_type": "code",
   "execution_count": 65,
   "metadata": {},
   "outputs": [
    {
     "name": "stdout",
     "output_type": "stream",
     "text": [
      "[0, 0, 1, 0, 1, 1, 0, 1, 1, 1, 0, 1, 1, 0, 1, 0, 1, 0, 0, 0, 0, 0, 0, 0, 1, 1, 1, 0, 0, 1, 1, 0, 1, 1, 0, 0, 0, 1, 1, 1, 0, 0, 1, 1, 0, 0, 0, 1, 1, 1, 1, 1, 1, 0, 0, 1, 1, 1, 1, 0, 1, 1, 1, 1, 1, 0, 0, 0, 1, 1, 0, 0, 0, 0, 1, 0, 1, 0, 0, 1, 1, 0, 0, 1, 0, 0, 0, 1, 0, 0, 1, 1, 0, 1, 1, 1, 1, 0, 0, 0, 1, 0, 1, 1, 0, 1, 0, 0, 1, 1, 0, 1, 1, 0, 1, 0, 0, 0, 1, 1, 1, 0, 1, 0, 1, 1, 0, 0, 0, 0, 0, 0, 1, 1, 0, 0, 1, 1, 1, 1, 0, 0, 1, 0, 0, 0, 0, 1, 1, 1, 0, 0, 0, 0, 1, 1, 0, 0, 1, 1, 1, 1, 1, 0, 1, 1, 1, 0, 1, 1, 0, 1, 1, 0, 0, 0, 1, 1, 0, 1, 1, 1, 1, 1, 0, 1, 0, 1, 1, 0, 1, 0, 0, 0, 1, 1, 0, 1, 0, 0, 0, 0, 0, 1, 1, 1, 0, 0, 1, 1, 1, 1, 1, 0, 0, 0, 1, 1, 0, 1, 1, 1, 0, 0, 1, 0, 0, 0, 1, 0, 0, 1, 1, 0, 0, 1, 0, 1, 1, 0, 1, 1, 0, 0, 1, 0, 1, 1, 1, 0, 0, 0, 1, 0, 1, 1, 0, 0, 1, 0, 0, 0, 1, 1, 0, 1, 0, 1, 1, 1, 1, 1, 0, 1, 0, 1, 0, 1, 0, 0, 1, 1, 0, 0, 1, 0, 0, 1, 0, 0, 1, 0, 0, 1, 1, 1, 0, 0, 0, 1, 1, 0, 0, 0, 1, 1, 1, 0, 1, 0, 0, 1, 0, 1, 1, 0, 1, 1, 0, 0, 0, 0, 0, 0, 0, 0, 1, 0, 1, 1, 1, 1, 0, 1, 1, 0, 1, 0, 1, 1, 0, 1, 1, 1, 0, 0, 1, 0, 1, 1, 1, 0, 0, 1, 0, 0, 0, 0, 1, 0, 0, 0, 1, 0, 0, 0, 1, 0, 0, 1, 1, 1, 1, 1, 1, 0, 1, 1, 0, 0, 0, 0, 1, 1, 0, 1, 0, 0, 1, 0, 0, 0, 1, 0, 1, 0, 0, 1, 0, 0, 0, 0, 1, 1, 1, 1, 1, 0, 1, 0, 0, 0, 0, 0, 0, 0, 1, 1, 1, 0, 1, 0, 1, 0, 0, 1, 1, 1, 0, 1, 0, 0, 0, 1, 0, 0, 0, 1, 1, 0, 1, 1, 1, 0, 1, 1, 0, 1, 1, 0, 0, 0, 0, 0, 1, 1, 1, 0, 1, 1, 0, 1, 1, 0, 1, 1, 0, 0, 1, 1, 0, 0, 1, 0, 0, 1, 1, 0, 0, 0, 1, 1, 0, 1, 1, 1, 0, 0, 0, 1, 0, 1, 1, 1, 1, 0, 0, 0, 0, 0, 1, 0, 1, 0, 1, 1, 1, 1, 0, 0, 0, 1, 1, 0, 1, 1, 0, 0, 0, 1, 1, 1, 0, 0, 0, 1, 0, 1, 1, 1, 1, 0, 0, 1, 1, 1, 1, 0, 1, 0, 0, 1, 1, 1, 1, 1, 1, 0, 1, 0, 1, 0, 0, 0, 0, 1, 1, 1, 0, 1, 1, 1, 0, 1, 1, 0, 1, 0, 0, 0, 1, 0, 1, 0, 1, 0, 1, 1, 1, 1, 1, 0, 1, 1, 1, 0, 1, 1, 0, 1, 1, 1, 0, 1, 0, 0, 0, 1, 1, 0, 1, 1, 1, 1, 0, 0, 1, 0, 1, 1, 1, 1, 0, 1, 0, 1, 0, 0, 1, 0, 0, 1, 0, 0, 1, 0, 0, 1, 0, 0, 0, 0, 1, 1, 1, 1, 0, 0, 0, 0, 0, 1, 1, 0, 0, 0, 1, 1, 1, 1, 1, 1, 0, 1, 1, 0, 0, 1, 0, 0, 0, 1, 1, 0, 0, 0, 1, 1, 1, 0, 0, 1, 0, 1, 1, 0, 1, 0, 1, 1, 1, 1, 0, 0, 1, 1, 0, 0, 0, 1, 0, 1, 1, 0, 1, 1, 0, 1, 1, 1, 0, 1, 1, 0, 1, 0, 0, 0, 1, 0, 1, 0, 1, 1, 0, 1, 1, 0, 1, 1, 1, 0, 0, 1, 0, 0, 1, 0, 1, 1, 0, 0, 0, 0, 0, 0, 1, 0, 0, 1, 1, 0, 1, 1, 1, 0, 1, 1, 1, 1, 0, 1, 1, 1, 1, 0, 0, 0, 0, 1, 1, 0, 0, 1, 0, 0, 0, 0, 1, 0, 1, 0, 1, 1, 1, 0, 1, 1, 1, 0, 0, 1, 0, 1, 0, 1, 1, 1, 0, 1, 0, 0, 0, 0, 1, 0, 1, 0, 1, 1, 1, 0, 1, 0, 1, 0, 1, 1, 1, 0, 0, 1, 1, 0, 1, 1, 0, 1, 0, 1, 0, 0, 1, 1, 0, 0, 0, 0, 0, 1, 1, 0, 1, 0, 1, 1, 1, 1, 0, 1, 1, 1, 0, 0, 1, 1, 1, 1, 1, 1, 0, 0, 0, 0, 0, 0, 0, 1, 1, 1, 0, 0, 0, 0, 1, 1, 1, 0, 1, 1, 1, 0, 0, 1, 0, 1, 0, 1, 0, 0, 1, 0, 1, 1, 1, 1, 0, 0, 0, 0, 1, 1, 1, 1, 0, 1, 1, 1, 0, 1, 1, 1, 0, 1, 0, 1, 0, 1, 1, 0, 0, 1, 1, 1, 0, 0, 0, 0, 1, 1, 1, 0, 1, 1, 0, 1, 1, 1, 1, 1, 1, 1, 1, 1, 1, 1, 1, 0, 0, 1, 1, 1, 0, 0, 1, 0, 1, 1, 1, 1, 1, 0, 1, 0, 1, 1, 1, 0, 1, 1, 0, 1, 0, 1, 1, 1, 0, 0, 0, 0, 1, 1, 0, 0, 0, 0, 1, 1, 1, 0, 0, 1, 0, 0, 0, 0, 1, 0, 0, 1, 0, 1, 1, 0, 1, 0, 0, 1, 1, 1, 0, 1, 0, 0, 0, 0, 1, 1, 0, 1, 1, 1, 0, 0, 1, 1, 1, 0, 0, 0, 1, 0, 0, 1, 1, 1, 1, 1, 0, 0, 0, 0, 1, 0, 0, 1, 0, 1, 1, 0, 1, 1, 1, 0, 0, 0, 0, 1, 0, 0, 1, 0, 1, 1, 1, 0, 0, 0, 1, 0, 1, 1, 1, 0, 1, 1, 0, 1, 0, 1, 1, 0, 0, 1, 1, 1, 0, 1, 1, 0, 1, 1, 1, 0, 1, 1, 1, 0, 1, 0, 0, 1, 0, 1, 0, 1, 0, 0, 0, 0, 1, 0, 1, 0, 0, 0, 1, 1, 0, 0, 1, 0, 0, 1, 0, 1, 1, 1, 0, 0, 1, 0, 1, 0, 0, 0, 0, 0, 0, 1, 1, 1, 0, 1, 1, 0, 0, 0, 1, 1, 0, 0, 1, 1, 0, 1, 1, 0, 1, 1, 0, 0, 1, 0, 1, 0, 1, 1, 1, 0, 0, 1, 0, 0, 1, 1, 0, 0, 1, 0, 1, 0, 1, 0, 1, 1, 1, 1, 1, 1, 1, 1, 1, 1, 0, 1, 1, 0, 1, 1, 1, 1, 0, 1, 0, 0, 0, 1, 0, 0, 0, 0, 1, 1, 1, 1, 1, 0, 1, 0, 1, 1, 0, 0, 0, 1, 0, 0, 0, 0, 1, 1, 1, 1, 0, 0, 0, 0, 0, 1, 0, 0, 0, 1, 1, 1, 1, 1, 1, 1, 1, 1, 1, 1, 1, 0, 1, 0, 0, 1, 1, 0, 0, 1, 1, 1, 1, 0, 1, 0, 0, 1, 0, 1, 1, 0, 0, 0, 0, 0, 0, 0, 1, 1, 1, 1, 1, 0, 1, 0, 1, 1, 0, 1, 0, 1, 0, 1, 0, 0, 1, 0, 0, 0, 0, 1, 0, 1, 1, 1, 0, 1, 1, 1, 0, 1, 1, 1, 1, 0, 1, 1, 0, 1, 0, 1, 1, 1, 0, 1, 0, 1, 0, 1, 0, 0, 1, 1, 1, 1, 1, 1, 0, 1, 1, 1, 0, 1, 0, 0, 1, 0, 0, 1, 1, 0, 0, 0, 1, 0, 1, 0, 1, 1, 1, 1, 0, 1, 1, 0, 1, 1, 0, 0, 1, 0, 1, 1, 1, 1, 1, 0, 1, 0, 1, 0, 1, 1, 1, 1, 1, 0, 1, 1, 0, 1, 1, 0, 1, 0, 0, 1, 0, 0, 0, 0, 1, 0, 0, 0, 1, 1, 0, 0, 0, 0, 1, 0, 0, 0, 0, 1, 1, 1, 1, 1, 1, 0, 0, 1, 1, 0, 1, 0, 0, 1, 0, 0, 0, 1, 1, 1, 0, 0, 1, 0, 1, 0, 1, 1, 1, 1, 0, 1, 1, 0, 1, 0, 1, 1, 0, 0, 0, 1, 1, 1, 0, 0, 0, 0, 0, 1, 0, 1, 1, 1, 1, 1, 0, 1, 1, 0, 0, 1, 0, 1, 0, 0, 1, 1, 0, 0, 1, 0, 1, 1, 0, 0, 0, 1, 1, 1, 1, 1, 1, 1, 0, 1, 1, 0, 0, 1, 1, 0, 1, 1, 0, 0, 1, 0, 0, 0, 1, 1, 1, 0, 0, 1, 0, 1, 0, 0, 0, 1, 1, 1, 0, 1, 0, 0, 1, 1, 0, 1, 0, 1, 0, 0, 0, 1, 0, 0, 1, 1, 1, 1, 1, 1, 1, 1, 0, 1, 1, 0, 0, 0, 1, 0, 1, 0, 0, 0, 1, 1, 0, 1, 0, 1, 1, 1, 1, 1, 1, 1, 1, 1, 0, 0, 0, 0, 1, 0, 1, 0, 1, 1, 1, 1, 1, 1, 1, 1, 0, 0, 0, 1, 1, 1, 1, 1, 1, 1, 1, 0, 1, 1, 1, 0, 0, 1, 0, 1, 0, 0, 1, 1, 0, 1, 0, 1, 0, 0, 0, 1, 1, 0, 0, 0, 1, 1, 0, 0, 1, 1, 0, 0, 1, 0, 1, 0, 0, 1, 0, 0, 1, 1, 1, 0, 1, 0, 1, 0, 0, 1, 0, 1, 1, 1, 1, 1, 0, 1, 1, 1, 1, 0, 0, 1, 1, 1, 0, 1, 0, 1, 0, 0, 1, 1, 1, 0, 0, 1, 0, 1, 0, 0, 1, 0, 0, 1, 0, 1, 0, 0, 1, 0, 0, 0, 1, 0, 0, 1, 0, 1, 0, 1, 1, 0, 0, 0, 1, 1, 1, 1, 0, 1, 1, 1, 1, 0, 0, 1, 1, 1, 1, 0, 1, 0, 0, 0, 0, 1, 0, 1, 0, 1, 1, 1, 0, 1, 1, 1, 0, 1, 0, 0, 1, 0, 0, 1, 1, 0, 0, 1, 1, 1, 1, 0, 1, 0, 0, 1, 1, 0, 1, 0, 1, 0, 1, 1, 1, 0, 0, 1, 0, 0, 0, 1, 1, 1, 1, 0, 1, 0, 0, 1, 0, 1, 0, 1, 0, 1, 0, 1, 1, 1, 0, 0, 0, 0, 1, 0, 0, 1, 0, 1, 0, 1, 0, 0, 1, 1, 0, 1, 1, 1, 1, 1, 1, 0, 0, 0, 1, 1, 1, 0, 1, 0, 1, 1, 0, 0, 1, 0, 0, 1, 0, 1, 1, 0, 1, 1, 1, 1, 0, 0, 1, 1, 0, 0, 1, 1, 1, 0, 1, 1, 1, 1, 1, 0, 0, 0, 1, 0, 0, 1, 1, 0, 0, 0, 0, 1, 0, 1, 0, 1, 1, 0, 1, 0, 0, 1, 0, 1, 1, 1, 0, 1, 0, 0, 1, 1, 1, 1, 0, 0, 0, 0, 0, 1, 1, 1, 1, 0, 0, 0, 0, 0, 1, 0, 0, 1, 0, 0, 0, 0, 0, 0, 1, 1, 0, 0, 0, 1, 1, 1, 1, 0, 0, 0, 1, 1, 0, 0, 0, 0, 0, 1, 0, 1, 0, 0, 1, 0, 1, 1, 1, 1, 0, 0, 1, 1, 1, 1, 1, 1, 1, 1, 0, 0, 0, 0, 1, 0, 0, 0, 1, 0, 1, 1, 0, 0, 0, 1, 0, 0, 0, 0, 1, 0, 1, 1, 0, 1, 1, 1, 1, 0, 1, 0, 0, 1, 0, 1, 0, 1, 0, 0, 0, 0, 0]\n"
     ]
    }
   ],
   "source": [
    "test_review = clean(test_review)\n",
    "tfidf_testreview_features = tfidf_vectorizer.transform(test_review)\n",
    "predictions = svm_tfidf_model.predict(tfidf_testreview_features).tolist()\n",
    "print(predictions)"
   ]
  },
  {
   "cell_type": "code",
   "execution_count": 73,
   "metadata": {},
   "outputs": [],
   "source": [
    "id = test_df['id'].tolist()\n",
    "dataframe = pd.DataFrame({'id':id,'sentiment':predictions})\n",
    "dataframe.to_csv('111.tsv',sep='\\t')\n"
   ]
  },
  {
   "cell_type": "code",
   "execution_count": null,
   "metadata": {},
   "outputs": [],
   "source": []
  }
 ],
 "metadata": {
  "kernelspec": {
   "display_name": "Python 3",
   "language": "python",
   "name": "python3"
  },
  "language_info": {
   "codemirror_mode": {
    "name": "ipython",
    "version": 3
   },
   "file_extension": ".py",
   "mimetype": "text/x-python",
   "name": "python",
   "nbconvert_exporter": "python",
   "pygments_lexer": "ipython3",
   "version": "3.7.3"
  }
 },
 "nbformat": 4,
 "nbformat_minor": 2
}
