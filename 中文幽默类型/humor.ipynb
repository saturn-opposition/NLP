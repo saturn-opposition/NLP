{
 "cells": [
  {
   "cell_type": "code",
   "execution_count": 1,
   "metadata": {},
   "outputs": [],
   "source": [
    "import pandas as pd\n",
    "import sklearn\n",
    "from sklearn.feature_extraction.text import CountVectorizer\n",
    "import tensorflow as tf\n",
    "from tensorflow import keras\n",
    "from tensorflow.keras.models import Sequential\n",
    "from tensorflow.keras.preprocessing import sequence\n",
    "from tensorflow.keras.layers import Dense,Dropout,Activation\n",
    "from tensorflow.keras.layers import Conv1D ,GlobalMaxPooling1D\n",
    "from tensorflow.keras.layers import Embedding\n",
    "from tensorflow.keras.datasets import imdb\n",
    "import matplotlib.pyplot as plt\n",
    "import warnings\n",
    "warnings.filterwarnings(\"ignore\")"
   ]
  },
  {
   "cell_type": "code",
   "execution_count": 2,
   "metadata": {},
   "outputs": [],
   "source": [
    "# 绘制模型表现图\n",
    "def performance(y_true , predict , color = \"g\" , ann = True):\n",
    "    acc = accuracy_score(y_true , predict[:] > 0.5)\n",
    "    auc = roc_auc_score(y_true , predict[:])\n",
    "    fpr , tpr , thr = roc_curve(y_true , predict[:])\n",
    "    plt.figure()\n",
    "    plt.plot(fpr , tpr )"
   ]
  },
  {
   "cell_type": "markdown",
   "metadata": {},
   "source": [
    "# 读取数据"
   ]
  },
  {
   "cell_type": "code",
   "execution_count": 3,
   "metadata": {},
   "outputs": [],
   "source": [
    "df_train = pd.read_csv(\"training.csv\",sep=',',header=0,encoding='utf-8')\n",
    "df_validation = pd.read_csv(\"validation.csv\",sep=',',header=0,encoding='utf-8')\n",
    "# print(df_validation.head(50))\n",
    "train_X = df_train['content']\n",
    "train_Y = df_train['label']\n",
    "validate_X = df_validation['content']\n",
    "validate_Y = df_validation['label']\n",
    "train_Y = tf.squeeze(train_Y)\n",
    "validate_Y = tf.squeeze(validate_Y)"
   ]
  },
  {
   "cell_type": "markdown",
   "metadata": {},
   "source": [
    "# 预处理"
   ]
  },
  {
   "cell_type": "code",
   "execution_count": 4,
   "metadata": {},
   "outputs": [
    {
     "data": {
      "text/plain": [
       "((5838,), TensorShape([5838]), (730,), TensorShape([730]))"
      ]
     },
     "execution_count": 4,
     "metadata": {},
     "output_type": "execute_result"
    }
   ],
   "source": [
    "train_X.shape,train_Y.shape,validate_X.shape,validate_Y.shape"
   ]
  },
  {
   "cell_type": "code",
   "execution_count": 5,
   "metadata": {},
   "outputs": [],
   "source": [
    "import jieba\n",
    "import string\n",
    "def clean_CN(corpus):\n",
    "    stop = []\n",
    "    with open(r\"D:\\大创项目\\LDA\\stopwords\\CNstopwords.txt\", 'r', encoding='utf-8') as f:\n",
    "        for lines in f:\n",
    "            stop.append(lines.strip())\n",
    "    stop = set(stop)\n",
    "   \n",
    "    exclude = set(string.punctuation)  # 标点符号\n",
    "    clean_corpus = []\n",
    "    for doc in corpus:\n",
    "        words = jieba.lcut(doc)\n",
    "        stop_free = [i for i in words if (i not in stop) & (i.isalpha())]\n",
    "        clean_corpus.append(stop_free)\n",
    "    return clean_corpus\n"
   ]
  },
  {
   "cell_type": "code",
   "execution_count": 6,
   "metadata": {},
   "outputs": [
    {
     "name": "stderr",
     "output_type": "stream",
     "text": [
      "Building prefix dict from the default dictionary ...\n",
      "Loading model from cache C:\\Users\\Pluto\\AppData\\Local\\Temp\\jieba.cache\n",
      "Loading model cost 1.472 seconds.\n",
      "Prefix dict has been built succesfully.\n"
     ]
    }
   ],
   "source": [
    "train_X = clean_CN(train_X)\n",
    "validate_X = clean_CN(validate_X)"
   ]
  },
  {
   "cell_type": "code",
   "execution_count": 8,
   "metadata": {},
   "outputs": [
    {
     "data": {
      "text/plain": [
       "<tf.Tensor: id=1, shape=(5838,), dtype=int32, numpy=array([2, 2, 2, ..., 1, 3, 3])>"
      ]
     },
     "execution_count": 8,
     "metadata": {},
     "output_type": "execute_result"
    }
   ],
   "source": [
    "train_Y"
   ]
  },
  {
   "cell_type": "markdown",
   "metadata": {},
   "source": [
    "# 特征提取 "
   ]
  },
  {
   "cell_type": "code",
   "execution_count": 9,
   "metadata": {},
   "outputs": [
    {
     "name": "stdout",
     "output_type": "stream",
     "text": [
      "6568\n",
      "5838\n",
      "730\n"
     ]
    }
   ],
   "source": [
    "from gensim import corpora\n",
    "texts = train_X.copy()\n",
    "texts.extend(validate_X)\n",
    "print(len(texts))\n",
    "print(len(train_X))\n",
    "print(len(validate_X))"
   ]
  },
  {
   "cell_type": "code",
   "execution_count": 10,
   "metadata": {},
   "outputs": [
    {
     "name": "stdout",
     "output_type": "stream",
     "text": [
      "Dictionary(2358 unique tokens: ['一回', '乙', '书', '同学', '对不起']...)\n"
     ]
    }
   ],
   "source": [
    "dictionary = corpora.Dictionary(texts)\n",
    "dictionary.filter_extremes(no_below=10, no_above=0.5)\n",
    "dictionary.compactify() \n",
    "print(dictionary)"
   ]
  },
  {
   "cell_type": "code",
   "execution_count": 11,
   "metadata": {},
   "outputs": [],
   "source": [
    "train_X = [dictionary.doc2bow(text) for text in train_X]\n",
    "validate_X = [dictionary.doc2bow(text) for text in validate_X]\n"
   ]
  },
  {
   "cell_type": "code",
   "execution_count": 12,
   "metadata": {},
   "outputs": [
    {
     "name": "stdout",
     "output_type": "stream",
     "text": [
      "5838\n",
      "[14, 25, 38, 47, 95, 95, 108, 109, 110, 111, 112, 113, 113, 114, 115, 116, 117, 118, 119]\n",
      "730\n",
      "[18, 18, 18, 211, 256, 257, 320, 322, 412, 452, 790, 1025, 1190, 1392, 1631, 1886, 1886, 1886]\n"
     ]
    }
   ],
   "source": [
    "new_train_X = []\n",
    "new_validate_X = []\n",
    "for i in range(len(train_X)):\n",
    "    temp = []\n",
    "    doc = train_X[i]\n",
    "    for k in range(len(doc)):\n",
    "        count = doc[k][1]\n",
    "        for j in range(count):\n",
    "            temp.append(doc[k][0])\n",
    "    new_train_X.append(temp)\n",
    "print(len(new_train_X))\n",
    "print(new_train_X[10])\n",
    "\n",
    "for i in range(len(validate_X)):\n",
    "    temp = []\n",
    "    doc = validate_X[i]\n",
    "    for k in range(len(doc)):\n",
    "        count = doc[k][1]\n",
    "        for j in range(count):\n",
    "            temp.append(doc[k][0])\n",
    "    new_validate_X.append(temp)\n",
    "print(len(new_validate_X))\n",
    "print(new_validate_X[10])"
   ]
  },
  {
   "cell_type": "code",
   "execution_count": 13,
   "metadata": {},
   "outputs": [],
   "source": [
    "from tensorflow.keras.preprocessing import sequence\n",
    "train_x = sequence.pad_sequences(new_train_X, maxlen=15)\n",
    "validate_x = sequence.pad_sequences(new_validate_X, maxlen=15)"
   ]
  },
  {
   "cell_type": "code",
   "execution_count": 14,
   "metadata": {},
   "outputs": [
    {
     "data": {
      "text/plain": [
       "((5838, 15), (730, 15))"
      ]
     },
     "execution_count": 14,
     "metadata": {},
     "output_type": "execute_result"
    }
   ],
   "source": [
    "train_x.shape,validate_x.shape"
   ]
  },
  {
   "cell_type": "markdown",
   "metadata": {},
   "source": [
    "# 构建网络"
   ]
  },
  {
   "cell_type": "code",
   "execution_count": 15,
   "metadata": {},
   "outputs": [
    {
     "name": "stdout",
     "output_type": "stream",
     "text": [
      "Model: \"sequential\"\n",
      "_________________________________________________________________\n",
      "Layer (type)                 Output Shape              Param #   \n",
      "=================================================================\n",
      "embedding (Embedding)        (None, 15, 15)            35370     \n",
      "_________________________________________________________________\n",
      "dropout (Dropout)            (None, 15, 15)            0         \n",
      "_________________________________________________________________\n",
      "conv1d (Conv1D)              (None, 15, 250)           11500     \n",
      "_________________________________________________________________\n",
      "activation (Activation)      (None, 15, 250)           0         \n",
      "_________________________________________________________________\n",
      "max_pooling1d (MaxPooling1D) (None, 7, 250)            0         \n",
      "_________________________________________________________________\n",
      "conv1d_1 (Conv1D)            (None, 7, 250)            187750    \n",
      "_________________________________________________________________\n",
      "activation_1 (Activation)    (None, 7, 250)            0         \n",
      "_________________________________________________________________\n",
      "max_pooling1d_1 (MaxPooling1 (None, 3, 250)            0         \n",
      "_________________________________________________________________\n",
      "dropout_1 (Dropout)          (None, 3, 250)            0         \n",
      "_________________________________________________________________\n",
      "conv1d_2 (Conv1D)            (None, 3, 250)            187750    \n",
      "_________________________________________________________________\n",
      "activation_2 (Activation)    (None, 3, 250)            0         \n",
      "_________________________________________________________________\n",
      "max_pooling1d_2 (MaxPooling1 (None, 1, 250)            0         \n",
      "_________________________________________________________________\n",
      "flatten (Flatten)            (None, 250)               0         \n",
      "_________________________________________________________________\n",
      "dense (Dense)                (None, 250)               62750     \n",
      "_________________________________________________________________\n",
      "dropout_2 (Dropout)          (None, 250)               0         \n",
      "_________________________________________________________________\n",
      "activation_3 (Activation)    (None, 250)               0         \n",
      "_________________________________________________________________\n",
      "dense_1 (Dense)              (None, 1)                 251       \n",
      "_________________________________________________________________\n",
      "activation_4 (Activation)    (None, 1)                 0         \n",
      "=================================================================\n",
      "Total params: 485,371\n",
      "Trainable params: 485,371\n",
      "Non-trainable params: 0\n",
      "_________________________________________________________________\n",
      "WARNING:tensorflow:From C:\\Users\\Pluto\\AppData\\Local\\Continuum\\anaconda3\\lib\\site-packages\\tensorflow\\python\\ops\\math_grad.py:1250: add_dispatch_support.<locals>.wrapper (from tensorflow.python.ops.array_ops) is deprecated and will be removed in a future version.\n",
      "Instructions for updating:\n",
      "Use tf.where in 2.0, which has the same broadcast rule as np.where\n",
      "Train on 5838 samples, validate on 730 samples\n",
      "Epoch 1/100\n",
      "5838/5838 [==============================] - 5s 820us/sample - loss: 3.0211e-07 - accuracy: 0.1153 - val_loss: 3.0243e-07 - val_accuracy: 0.1274\n",
      "Epoch 2/100\n",
      "5838/5838 [==============================] - 3s 555us/sample - loss: 3.0211e-07 - accuracy: 0.1189 - val_loss: 3.0243e-07 - val_accuracy: 0.1274\n",
      "Epoch 3/100\n",
      "5838/5838 [==============================] - 3s 553us/sample - loss: 3.0211e-07 - accuracy: 0.1185 - val_loss: 3.0243e-07 - val_accuracy: 0.1274\n",
      "Epoch 4/100\n",
      "5838/5838 [==============================] - 3s 562us/sample - loss: 3.0211e-07 - accuracy: 0.1172 - val_loss: 3.0243e-07 - val_accuracy: 0.1274\n",
      "Epoch 5/100\n",
      "5838/5838 [==============================] - 3s 555us/sample - loss: 3.0211e-07 - accuracy: 0.1155 - val_loss: 3.0243e-07 - val_accuracy: 0.1274\n",
      "Epoch 6/100\n",
      "5838/5838 [==============================] - 3s 552us/sample - loss: 3.0211e-07 - accuracy: 0.1153 - val_loss: 3.0243e-07 - val_accuracy: 0.1274\n",
      "Epoch 7/100\n",
      "5838/5838 [==============================] - 3s 553us/sample - loss: 3.0211e-07 - accuracy: 0.1155 - val_loss: 3.0243e-07 - val_accuracy: 0.1274\n",
      "Epoch 8/100\n",
      "5838/5838 [==============================] - 3s 554us/sample - loss: 3.0211e-07 - accuracy: 0.1163 - val_loss: 3.0243e-07 - val_accuracy: 0.1274\n",
      "Epoch 9/100\n",
      "5838/5838 [==============================] - 3s 549us/sample - loss: 3.0211e-07 - accuracy: 0.1168 - val_loss: 3.0243e-07 - val_accuracy: 0.1274\n",
      "Epoch 10/100\n",
      "5838/5838 [==============================] - 3s 548us/sample - loss: 3.0211e-07 - accuracy: 0.1161 - val_loss: 3.0243e-07 - val_accuracy: 0.1274\n",
      "Epoch 11/100\n",
      "5838/5838 [==============================] - 3s 590us/sample - loss: 3.0211e-07 - accuracy: 0.1160 - val_loss: 3.0243e-07 - val_accuracy: 0.1274\n",
      "Epoch 12/100\n",
      "5838/5838 [==============================] - 4s 654us/sample - loss: 3.0211e-07 - accuracy: 0.1155 - val_loss: 3.0243e-07 - val_accuracy: 0.1274\n",
      "Epoch 13/100\n",
      "5838/5838 [==============================] - 4s 636us/sample - loss: 3.0211e-07 - accuracy: 0.1172 - val_loss: 3.0243e-07 - val_accuracy: 0.1274\n",
      "Epoch 14/100\n",
      "5838/5838 [==============================] - 5s 788us/sample - loss: 3.0211e-07 - accuracy: 0.1158 - val_loss: 3.0243e-07 - val_accuracy: 0.1274\n",
      "Epoch 15/100\n",
      "5838/5838 [==============================] - 4s 614us/sample - loss: 3.0211e-07 - accuracy: 0.1166 - val_loss: 3.0243e-07 - val_accuracy: 0.1274\n",
      "Epoch 16/100\n",
      "5838/5838 [==============================] - 6s 1ms/sample - loss: 3.0211e-07 - accuracy: 0.1168 - val_loss: 3.0243e-07 - val_accuracy: 0.1274\n",
      "Epoch 17/100\n",
      "5838/5838 [==============================] - 5s 791us/sample - loss: 3.0211e-07 - accuracy: 0.1166 - val_loss: 3.0243e-07 - val_accuracy: 0.1274\n",
      "Epoch 18/100\n",
      "5838/5838 [==============================] - 4s 740us/sample - loss: 3.0211e-07 - accuracy: 0.1149 - val_loss: 3.0243e-07 - val_accuracy: 0.1274\n",
      "Epoch 19/100\n",
      "5838/5838 [==============================] - 5s 808us/sample - loss: 3.0211e-07 - accuracy: 0.1168 - val_loss: 3.0243e-07 - val_accuracy: 0.1274\n",
      "Epoch 20/100\n",
      "5838/5838 [==============================] - 4s 684us/sample - loss: 3.0211e-07 - accuracy: 0.1134 - val_loss: 3.0243e-07 - val_accuracy: 0.1274\n",
      "Epoch 21/100\n",
      "5838/5838 [==============================] - 4s 623us/sample - loss: 3.0211e-07 - accuracy: 0.1160 - val_loss: 3.0243e-07 - val_accuracy: 0.1274\n",
      "Epoch 22/100\n",
      "5838/5838 [==============================] - 3s 584us/sample - loss: 3.0211e-07 - accuracy: 0.1166 - val_loss: 3.0243e-07 - val_accuracy: 0.1274\n",
      "Epoch 23/100\n",
      "5838/5838 [==============================] - 3s 579us/sample - loss: 3.0211e-07 - accuracy: 0.1163 - val_loss: 3.0243e-07 - val_accuracy: 0.1274\n",
      "Epoch 24/100\n",
      "5838/5838 [==============================] - 3s 584us/sample - loss: 3.0211e-07 - accuracy: 0.1182 - val_loss: 3.0243e-07 - val_accuracy: 0.1274\n",
      "Epoch 25/100\n",
      "5838/5838 [==============================] - 3s 590us/sample - loss: 3.0211e-07 - accuracy: 0.1160 - val_loss: 3.0243e-07 - val_accuracy: 0.1274\n",
      "Epoch 26/100\n",
      "5838/5838 [==============================] - 3s 585us/sample - loss: 3.0211e-07 - accuracy: 0.1132 - val_loss: 3.0243e-07 - val_accuracy: 0.1274\n",
      "Epoch 27/100\n",
      "5838/5838 [==============================] - 3s 594us/sample - loss: 3.0211e-07 - accuracy: 0.1131 - val_loss: 3.0243e-07 - val_accuracy: 0.1274\n",
      "Epoch 28/100\n",
      "5838/5838 [==============================] - 3s 591us/sample - loss: 3.0211e-07 - accuracy: 0.1139 - val_loss: 3.0243e-07 - val_accuracy: 0.1274\n",
      "Epoch 29/100\n",
      "5838/5838 [==============================] - 3s 588us/sample - loss: 3.0211e-07 - accuracy: 0.1168 - val_loss: 3.0243e-07 - val_accuracy: 0.1274\n",
      "Epoch 30/100\n",
      "5838/5838 [==============================] - 3s 583us/sample - loss: 3.0211e-07 - accuracy: 0.1166 - val_loss: 3.0243e-07 - val_accuracy: 0.1274\n",
      "Epoch 31/100\n",
      "5838/5838 [==============================] - 3s 583us/sample - loss: 3.0211e-07 - accuracy: 0.1166 - val_loss: 3.0243e-07 - val_accuracy: 0.1274\n",
      "Epoch 32/100\n",
      "5838/5838 [==============================] - 3s 587us/sample - loss: 3.0211e-07 - accuracy: 0.1168 - val_loss: 3.0243e-07 - val_accuracy: 0.1274\n",
      "Epoch 33/100\n"
     ]
    },
    {
     "name": "stdout",
     "output_type": "stream",
     "text": [
      "5838/5838 [==============================] - 3s 565us/sample - loss: 3.0211e-07 - accuracy: 0.1146 - val_loss: 3.0243e-07 - val_accuracy: 0.1274\n",
      "Epoch 34/100\n",
      "5838/5838 [==============================] - 3s 570us/sample - loss: 3.0211e-07 - accuracy: 0.1146 - val_loss: 3.0243e-07 - val_accuracy: 0.1274\n",
      "Epoch 35/100\n",
      "5838/5838 [==============================] - 3s 563us/sample - loss: 3.0211e-07 - accuracy: 0.1166 - val_loss: 3.0243e-07 - val_accuracy: 0.1274\n",
      "Epoch 36/100\n",
      "5838/5838 [==============================] - 3s 558us/sample - loss: 3.0211e-07 - accuracy: 0.1136 - val_loss: 3.0243e-07 - val_accuracy: 0.1274\n",
      "Epoch 37/100\n",
      "5838/5838 [==============================] - 3s 553us/sample - loss: 3.0211e-07 - accuracy: 0.1155 - val_loss: 3.0243e-07 - val_accuracy: 0.1274\n",
      "Epoch 38/100\n",
      "5838/5838 [==============================] - 3s 552us/sample - loss: 3.0211e-07 - accuracy: 0.1175 - val_loss: 3.0243e-07 - val_accuracy: 0.1274\n",
      "Epoch 39/100\n",
      "5838/5838 [==============================] - 3s 566us/sample - loss: 3.0211e-07 - accuracy: 0.1187 - val_loss: 3.0243e-07 - val_accuracy: 0.1274\n",
      "Epoch 40/100\n",
      "5838/5838 [==============================] - 3s 575us/sample - loss: 3.0211e-07 - accuracy: 0.1156 - val_loss: 3.0243e-07 - val_accuracy: 0.1274\n",
      "Epoch 41/100\n",
      "5838/5838 [==============================] - 3s 555us/sample - loss: 3.0211e-07 - accuracy: 0.1161 - val_loss: 3.0243e-07 - val_accuracy: 0.1274\n",
      "Epoch 42/100\n",
      "5838/5838 [==============================] - 3s 557us/sample - loss: 3.0211e-07 - accuracy: 0.1172 - val_loss: 3.0243e-07 - val_accuracy: 0.1274\n",
      "Epoch 43/100\n",
      "5838/5838 [==============================] - 4s 665us/sample - loss: 3.0211e-07 - accuracy: 0.1166 - val_loss: 3.0243e-07 - val_accuracy: 0.1274\n",
      "Epoch 44/100\n",
      "5838/5838 [==============================] - 4s 672us/sample - loss: 3.0211e-07 - accuracy: 0.1155 - val_loss: 3.0243e-07 - val_accuracy: 0.1274\n",
      "Epoch 45/100\n",
      "5838/5838 [==============================] - 6s 976us/sample - loss: 3.0211e-07 - accuracy: 0.1151 - val_loss: 3.0243e-07 - val_accuracy: 0.1274\n",
      "Epoch 46/100\n",
      "5838/5838 [==============================] - 4s 633us/sample - loss: 3.0211e-07 - accuracy: 0.1194 - val_loss: 3.0243e-07 - val_accuracy: 0.1274\n",
      "Epoch 47/100\n",
      "5838/5838 [==============================] - 4s 620us/sample - loss: 3.0211e-07 - accuracy: 0.1173 - val_loss: 3.0243e-07 - val_accuracy: 0.1274\n",
      "Epoch 48/100\n",
      "5838/5838 [==============================] - 3s 522us/sample - loss: 3.0211e-07 - accuracy: 0.1151 - val_loss: 3.0243e-07 - val_accuracy: 0.1274\n",
      "Epoch 49/100\n",
      "5838/5838 [==============================] - 3s 534us/sample - loss: 3.0211e-07 - accuracy: 0.1184 - val_loss: 3.0243e-07 - val_accuracy: 0.1274\n",
      "Epoch 50/100\n",
      "5838/5838 [==============================] - 3s 515us/sample - loss: 3.0211e-07 - accuracy: 0.1170 - val_loss: 3.0243e-07 - val_accuracy: 0.1274\n",
      "Epoch 51/100\n",
      "5838/5838 [==============================] - 3s 545us/sample - loss: 3.0211e-07 - accuracy: 0.1180 - val_loss: 3.0243e-07 - val_accuracy: 0.1274\n",
      "Epoch 52/100\n",
      "5838/5838 [==============================] - 3s 519us/sample - loss: 3.0211e-07 - accuracy: 0.1194 - val_loss: 3.0243e-07 - val_accuracy: 0.1274\n",
      "Epoch 53/100\n",
      "5838/5838 [==============================] - 3s 515us/sample - loss: 3.0211e-07 - accuracy: 0.1173 - val_loss: 3.0243e-07 - val_accuracy: 0.1274\n",
      "Epoch 54/100\n",
      "5838/5838 [==============================] - 3s 509us/sample - loss: 3.0211e-07 - accuracy: 0.1173 - val_loss: 3.0243e-07 - val_accuracy: 0.1274\n",
      "Epoch 55/100\n",
      "5838/5838 [==============================] - 3s 524us/sample - loss: 3.0211e-07 - accuracy: 0.1161 - val_loss: 3.0243e-07 - val_accuracy: 0.1274\n",
      "Epoch 56/100\n",
      "5838/5838 [==============================] - 3s 513us/sample - loss: 3.0211e-07 - accuracy: 0.1178 - val_loss: 3.0243e-07 - val_accuracy: 0.1274\n",
      "Epoch 57/100\n",
      "5838/5838 [==============================] - 3s 523us/sample - loss: 3.0211e-07 - accuracy: 0.1180 - val_loss: 3.0243e-07 - val_accuracy: 0.1274\n",
      "Epoch 58/100\n",
      "5838/5838 [==============================] - 3s 513us/sample - loss: 3.0211e-07 - accuracy: 0.1139 - val_loss: 3.0243e-07 - val_accuracy: 0.1274\n",
      "Epoch 59/100\n",
      "5838/5838 [==============================] - 3s 517us/sample - loss: 3.0211e-07 - accuracy: 0.1136 - val_loss: 3.0243e-07 - val_accuracy: 0.1274\n",
      "Epoch 60/100\n",
      "5838/5838 [==============================] - 3s 540us/sample - loss: 3.0211e-07 - accuracy: 0.1177 - val_loss: 3.0243e-07 - val_accuracy: 0.1274\n",
      "Epoch 61/100\n",
      "5838/5838 [==============================] - 4s 708us/sample - loss: 3.0211e-07 - accuracy: 0.1161 - val_loss: 3.0243e-07 - val_accuracy: 0.1274\n",
      "Epoch 62/100\n",
      "5838/5838 [==============================] - 4s 681us/sample - loss: 3.0211e-07 - accuracy: 0.1148 - val_loss: 3.0243e-07 - val_accuracy: 0.1274\n",
      "Epoch 63/100\n",
      "5838/5838 [==============================] - 4s 629us/sample - loss: 3.0211e-07 - accuracy: 0.1158 - val_loss: 3.0243e-07 - val_accuracy: 0.1274\n",
      "Epoch 64/100\n",
      "5838/5838 [==============================] - 3s 578us/sample - loss: 3.0211e-07 - accuracy: 0.1146 - val_loss: 3.0243e-07 - val_accuracy: 0.1274\n",
      "Epoch 65/100\n",
      "5838/5838 [==============================] - 4s 608us/sample - loss: 3.0211e-07 - accuracy: 0.1151 - val_loss: 3.0243e-07 - val_accuracy: 0.1274\n",
      "Epoch 66/100\n",
      "5838/5838 [==============================] - 4s 674us/sample - loss: 3.0211e-07 - accuracy: 0.1180 - val_loss: 3.0243e-07 - val_accuracy: 0.1274\n",
      "Epoch 67/100\n",
      "5838/5838 [==============================] - 4s 606us/sample - loss: 3.0211e-07 - accuracy: 0.1158 - val_loss: 3.0243e-07 - val_accuracy: 0.1274\n",
      "Epoch 68/100\n",
      "5838/5838 [==============================] - 3s 570us/sample - loss: 3.0211e-07 - accuracy: 0.1148 - val_loss: 3.0243e-07 - val_accuracy: 0.1274\n",
      "Epoch 69/100\n",
      "5838/5838 [==============================] - 3s 596us/sample - loss: 3.0211e-07 - accuracy: 0.1166 - val_loss: 3.0243e-07 - val_accuracy: 0.1274\n",
      "Epoch 70/100\n",
      "5838/5838 [==============================] - 3s 570us/sample - loss: 3.0211e-07 - accuracy: 0.1134 - val_loss: 3.0243e-07 - val_accuracy: 0.1274\n",
      "Epoch 71/100\n",
      "5838/5838 [==============================] - 3s 541us/sample - loss: 3.0211e-07 - accuracy: 0.1172 - val_loss: 3.0243e-07 - val_accuracy: 0.1274\n",
      "Epoch 72/100\n",
      "5838/5838 [==============================] - 3s 546us/sample - loss: 3.0211e-07 - accuracy: 0.1166 - val_loss: 3.0243e-07 - val_accuracy: 0.1274\n",
      "Epoch 73/100\n",
      "5838/5838 [==============================] - 3s 586us/sample - loss: 3.0211e-07 - accuracy: 0.1156 - val_loss: 3.0243e-07 - val_accuracy: 0.1274\n",
      "Epoch 74/100\n",
      "5838/5838 [==============================] - 4s 683us/sample - loss: 3.0211e-07 - accuracy: 0.1184 - val_loss: 3.0243e-07 - val_accuracy: 0.1274\n",
      "Epoch 75/100\n",
      "5838/5838 [==============================] - 4s 628us/sample - loss: 3.0211e-07 - accuracy: 0.1177 - val_loss: 3.0243e-07 - val_accuracy: 0.1274\n",
      "Epoch 76/100\n",
      "5838/5838 [==============================] - 4s 689us/sample - loss: 3.0211e-07 - accuracy: 0.1137 - val_loss: 3.0243e-07 - val_accuracy: 0.1274\n",
      "Epoch 77/100\n",
      "5838/5838 [==============================] - 4s 655us/sample - loss: 3.0211e-07 - accuracy: 0.1173 - val_loss: 3.0243e-07 - val_accuracy: 0.1274\n",
      "Epoch 78/100\n",
      "5838/5838 [==============================] - 4s 655us/sample - loss: 3.0211e-07 - accuracy: 0.1173 - val_loss: 3.0243e-07 - val_accuracy: 0.1274\n",
      "Epoch 79/100\n",
      "5838/5838 [==============================] - 4s 703us/sample - loss: 3.0211e-07 - accuracy: 0.1141 - val_loss: 3.0243e-07 - val_accuracy: 0.1274\n",
      "Epoch 80/100\n",
      "5838/5838 [==============================] - 4s 703us/sample - loss: 3.0211e-07 - accuracy: 0.1163 - val_loss: 3.0243e-07 - val_accuracy: 0.1274\n",
      "Epoch 81/100\n",
      "5838/5838 [==============================] - 4s 708us/sample - loss: 3.0211e-07 - accuracy: 0.1178 - val_loss: 3.0243e-07 - val_accuracy: 0.1274\n",
      "Epoch 82/100\n",
      "5838/5838 [==============================] - 4s 643us/sample - loss: 3.0211e-07 - accuracy: 0.1146 - val_loss: 3.0243e-07 - val_accuracy: 0.1274\n",
      "Epoch 83/100\n",
      "5838/5838 [==============================] - 4s 679us/sample - loss: 3.0211e-07 - accuracy: 0.1182 - val_loss: 3.0243e-07 - val_accuracy: 0.1274\n",
      "Epoch 84/100\n",
      "5838/5838 [==============================] - 4s 655us/sample - loss: 3.0211e-07 - accuracy: 0.1178 - val_loss: 3.0243e-07 - val_accuracy: 0.1274\n"
     ]
    },
    {
     "name": "stdout",
     "output_type": "stream",
     "text": [
      "Epoch 85/100\n",
      "5838/5838 [==============================] - 4s 710us/sample - loss: 3.0211e-07 - accuracy: 0.1143 - val_loss: 3.0243e-07 - val_accuracy: 0.1274\n",
      "Epoch 86/100\n",
      "5838/5838 [==============================] - 4s 700us/sample - loss: 3.0211e-07 - accuracy: 0.1185 - val_loss: 3.0243e-07 - val_accuracy: 0.1274\n",
      "Epoch 87/100\n",
      "5838/5838 [==============================] - 4s 628us/sample - loss: 3.0211e-07 - accuracy: 0.1155 - val_loss: 3.0243e-07 - val_accuracy: 0.1274\n",
      "Epoch 88/100\n",
      "5838/5838 [==============================] - 4s 667us/sample - loss: 3.0211e-07 - accuracy: 0.1178 - val_loss: 3.0243e-07 - val_accuracy: 0.1274\n",
      "Epoch 89/100\n",
      "5838/5838 [==============================] - 4s 666us/sample - loss: 3.0211e-07 - accuracy: 0.1155 - val_loss: 3.0243e-07 - val_accuracy: 0.1274\n",
      "Epoch 90/100\n",
      "5838/5838 [==============================] - 4s 637us/sample - loss: 3.0211e-07 - accuracy: 0.1170 - val_loss: 3.0243e-07 - val_accuracy: 0.1274\n",
      "Epoch 91/100\n",
      "5838/5838 [==============================] - 3s 588us/sample - loss: 3.0211e-07 - accuracy: 0.1180 - val_loss: 3.0243e-07 - val_accuracy: 0.1274\n",
      "Epoch 92/100\n",
      "5838/5838 [==============================] - 4s 632us/sample - loss: 3.0211e-07 - accuracy: 0.1161 - val_loss: 3.0243e-07 - val_accuracy: 0.1274\n",
      "Epoch 93/100\n",
      "5838/5838 [==============================] - 3s 592us/sample - loss: 3.0211e-07 - accuracy: 0.1190 - val_loss: 3.0243e-07 - val_accuracy: 0.1274\n",
      "Epoch 94/100\n",
      "5838/5838 [==============================] - 3s 586us/sample - loss: 3.0211e-07 - accuracy: 0.1173 - val_loss: 3.0243e-07 - val_accuracy: 0.1274\n",
      "Epoch 95/100\n",
      "5838/5838 [==============================] - 4s 614us/sample - loss: 3.0211e-07 - accuracy: 0.1184 - val_loss: 3.0243e-07 - val_accuracy: 0.1274\n",
      "Epoch 96/100\n",
      "5838/5838 [==============================] - 4s 653us/sample - loss: 3.0211e-07 - accuracy: 0.1149 - val_loss: 3.0243e-07 - val_accuracy: 0.1274\n",
      "Epoch 97/100\n",
      "5838/5838 [==============================] - 4s 632us/sample - loss: 3.0211e-07 - accuracy: 0.1136 - val_loss: 3.0243e-07 - val_accuracy: 0.1274\n",
      "Epoch 98/100\n",
      "5838/5838 [==============================] - 4s 639us/sample - loss: 3.0211e-07 - accuracy: 0.1137 - val_loss: 3.0243e-07 - val_accuracy: 0.1274\n",
      "Epoch 99/100\n",
      "5838/5838 [==============================] - 3s 594us/sample - loss: 3.0211e-07 - accuracy: 0.1190 - val_loss: 3.0243e-07 - val_accuracy: 0.1274\n",
      "Epoch 100/100\n",
      "5838/5838 [==============================] - 4s 622us/sample - loss: 3.0211e-07 - accuracy: 0.1148 - val_loss: 3.0243e-07 - val_accuracy: 0.1274\n"
     ]
    },
    {
     "data": {
      "text/plain": [
       "<tensorflow.python.keras.callbacks.History at 0x292d84bde10>"
      ]
     },
     "execution_count": 15,
     "metadata": {},
     "output_type": "execute_result"
    }
   ],
   "source": [
    "max_features = 2358\n",
    "embedding_dims = 15\n",
    "maxlen = 15\n",
    "filters =250\n",
    "kernel_size = 3\n",
    "hidden_dims = 250\n",
    "batch_size = 128\n",
    "epochs = 100\n",
    "\n",
    "\n",
    "model = keras.Sequential(\n",
    "    [\n",
    "        keras.layers.Embedding(max_features,\n",
    "                    embedding_dims,\n",
    "                    input_length=maxlen),\n",
    "        keras.layers.Dropout(0.2),\n",
    "        \n",
    "        keras.layers.Conv1D(filters,\n",
    "                 kernel_size,\n",
    "                 padding='same',\n",
    "                 activation='relu',\n",
    "                 strides=1,\n",
    "                ),\n",
    "        \n",
    "        keras.layers.Activation('relu'),\n",
    "        keras.layers.MaxPooling1D(),\n",
    "        \n",
    "        \n",
    "        keras.layers.Conv1D(filters,\n",
    "                 kernel_size,\n",
    "                 padding='same',\n",
    "                 activation='relu',\n",
    "                 strides=1),\n",
    "        keras.layers.Activation('relu'),\n",
    "        keras.layers.MaxPooling1D(),\n",
    "        \n",
    "        keras.layers.Dropout(0.2),\n",
    "        \n",
    "                \n",
    "        keras.layers.Conv1D(filters,\n",
    "                 kernel_size,\n",
    "                 padding='same',\n",
    "                 activation='relu',\n",
    "                 strides=1),\n",
    "        keras.layers.Activation('relu'),\n",
    "        keras.layers.MaxPooling1D(),\n",
    "        \n",
    "        \n",
    "        keras.layers.Flatten(),\n",
    "        keras.layers.Dense(hidden_dims),\n",
    "        keras.layers.Dropout(0.2),\n",
    "        keras.layers.Activation('relu'),\n",
    "        keras.layers.Dense(1),\n",
    "        keras.layers.Activation('sigmoid'),\n",
    "        \n",
    "    ]\n",
    "\n",
    ")\n",
    "opt = keras.optimizers.Adam(learning_rate=0.01)\n",
    "model.compile(loss='categorical_crossentropy',\n",
    "              optimizer=opt,\n",
    "              metrics=['accuracy'])\n",
    "model.summary()\n",
    "\n",
    "model.fit(train_x, train_Y,\n",
    "          batch_size=batch_size,\n",
    "          epochs=epochs,\n",
    "          validation_data=(validate_x, validate_Y))\n"
   ]
  },
  {
   "cell_type": "code",
   "execution_count": null,
   "metadata": {},
   "outputs": [],
   "source": [
    "\n"
   ]
  }
 ],
 "metadata": {
  "kernelspec": {
   "display_name": "Python 3",
   "language": "python",
   "name": "python3"
  },
  "language_info": {
   "codemirror_mode": {
    "name": "ipython",
    "version": 3
   },
   "file_extension": ".py",
   "mimetype": "text/x-python",
   "name": "python",
   "nbconvert_exporter": "python",
   "pygments_lexer": "ipython3",
   "version": "3.7.3"
  }
 },
 "nbformat": 4,
 "nbformat_minor": 2
}
