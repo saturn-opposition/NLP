{
 "cells": [
  {
   "cell_type": "code",
   "execution_count": null,
   "metadata": {},
   "outputs": [],
   "source": [
    "import pandas as pd\n",
    "import sklearn\n",
    "from sklearn.feature_extraction.text import CountVectorizer\n",
    "import tensorflow as tf\n",
    "from tensorflow import keras\n",
    "from tensorflow.keras.models import Sequential\n",
    "from tensorflow.keras.preprocessing import sequence\n",
    "from tensorflow.keras.layers import Dense,Dropout,Activation\n",
    "from tensorflow.keras.layers import Conv1D ,GlobalMaxPooling1D\n",
    "from tensorflow.keras.layers import Embedding\n",
    "from tensorflow.keras.datasets import imdb\n",
    "import matplotlib.pyplot as plt\n",
    "import warnings\n",
    "warnings.filterwarnings(\"ignore\")"
   ]
  },
  {
   "cell_type": "code",
   "execution_count": null,
   "metadata": {},
   "outputs": [],
   "source": [
    "# 绘制模型表现图\n",
    "def performance(y_true , predict , color = \"g\" , ann = True):\n",
    "    acc = accuracy_score(y_true , predict[:] > 0.5)\n",
    "    auc = roc_auc_score(y_true , predict[:])\n",
    "    fpr , tpr , thr = roc_curve(y_true , predict[:])\n",
    "    plt.figure()\n",
    "    plt.plot(fpr , tpr )"
   ]
  },
  {
   "cell_type": "markdown",
   "metadata": {},
   "source": [
    "# 读取数据"
   ]
  },
  {
   "cell_type": "code",
   "execution_count": null,
   "metadata": {},
   "outputs": [],
   "source": [
    "df_train = pd.read_csv(\"training.csv\",sep=',',header=0,encoding='utf-8')\n",
    "df_validation = pd.read_csv(\"validation.csv\",sep=',',header=0,encoding='utf-8')\n",
    "# print(df_validation.head(50))\n",
    "train_X = df_train['content']\n",
    "train_Y = df_train['label']\n",
    "validate_X = df_validation['content']\n",
    "validate_Y = df_validation['label']\n",
    "train_Y = tf.squeeze(train_Y)\n",
    "validate_Y = tf.squeeze(validate_Y)"
   ]
  },
  {
   "cell_type": "markdown",
   "metadata": {},
   "source": [
    "# 预处理"
   ]
  },
  {
   "cell_type": "code",
   "execution_count": null,
   "metadata": {},
   "outputs": [],
   "source": [
    "train_X.shape,train_Y.shape,validate_X.shape,validate_Y.shape"
   ]
  },
  {
   "cell_type": "code",
   "execution_count": null,
   "metadata": {},
   "outputs": [],
   "source": [
    "import jieba\n",
    "import string\n",
    "def clean_CN(corpus):\n",
    "    stop = []\n",
    "    with open(r\"D:\\大创项目\\LDA\\stopwords\\CNstopwords.txt\", 'r', encoding='utf-8') as f:\n",
    "        for lines in f:\n",
    "            stop.append(lines.strip())\n",
    "    stop = set(stop)\n",
    "   \n",
    "    exclude = set(string.punctuation)  # 标点符号\n",
    "    clean_corpus = []\n",
    "    for doc in corpus:\n",
    "        words = jieba.lcut(doc)\n",
    "        stop_free = [i for i in words if (i not in stop) & (i.isalpha())]\n",
    "        clean_corpus.append(stop_free)\n",
    "    return clean_corpus\n"
   ]
  },
  {
   "cell_type": "code",
   "execution_count": null,
   "metadata": {},
   "outputs": [],
   "source": [
    "train_X = clean_CN(train_X)\n",
    "validate_X = clean_CN(validate_X)"
   ]
  },
  {
   "cell_type": "markdown",
   "metadata": {},
   "source": [
    "# 特征提取 "
   ]
  },
  {
   "cell_type": "code",
   "execution_count": null,
   "metadata": {},
   "outputs": [],
   "source": [
    "from gensim import corpora\n",
    "texts = train_X.copy()\n",
    "texts.extend(validate_X)\n",
    "print(len(texts))\n",
    "print(len(train_X))\n",
    "print(len(validate_X))"
   ]
  },
  {
   "cell_type": "code",
   "execution_count": null,
   "metadata": {},
   "outputs": [],
   "source": [
    "dictionary = corpora.Dictionary(texts)\n",
    "dictionary.filter_extremes(no_below=10, no_above=0.5)\n",
    "dictionary.compactify() \n",
    "print(dictionary)"
   ]
  },
  {
   "cell_type": "code",
   "execution_count": null,
   "metadata": {},
   "outputs": [],
   "source": [
    "train_X = [dictionary.doc2bow(text) for text in train_X]\n",
    "validate_X = [dictionary.doc2bow(text) for text in validate_X]\n"
   ]
  },
  {
   "cell_type": "code",
   "execution_count": null,
   "metadata": {},
   "outputs": [],
   "source": [
    "new_train_X = []\n",
    "new_validate_X = []\n",
    "for i in range(len(train_X)):\n",
    "    temp = []\n",
    "    doc = train_X[i]\n",
    "    for k in range(len(doc)):\n",
    "        count = doc[k][1]\n",
    "        for j in range(count):\n",
    "            temp.append(doc[k][0])\n",
    "    new_train_X.append(temp)\n",
    "print(len(new_train_X))\n",
    "print(new_train_X[10])\n",
    "\n",
    "for i in range(len(validate_X)):\n",
    "    temp = []\n",
    "    doc = validate_X[i]\n",
    "    for k in range(len(doc)):\n",
    "        count = doc[k][1]\n",
    "        for j in range(count):\n",
    "            temp.append(doc[k][0])\n",
    "    new_validate_X.append(temp)\n",
    "print(len(new_validate_X))\n",
    "print(new_validate_X[10])"
   ]
  },
  {
   "cell_type": "code",
   "execution_count": null,
   "metadata": {},
   "outputs": [],
   "source": [
    "from tensorflow.keras.preprocessing import sequence\n",
    "train_x = sequence.pad_sequences(new_train_X, maxlen=15)\n",
    "validate_x = sequence.pad_sequences(new_validate_X, maxlen=15)"
   ]
  },
  {
   "cell_type": "code",
   "execution_count": null,
   "metadata": {},
   "outputs": [],
   "source": [
    "train_x.shape,validate_x.shape"
   ]
  },
  {
   "cell_type": "markdown",
   "metadata": {},
   "source": [
    "# 构建网络"
   ]
  },
  {
   "cell_type": "code",
   "execution_count": null,
   "metadata": {},
   "outputs": [
    {
     "name": "stdout",
     "output_type": "stream",
     "text": [
      "Model: \"sequential\"\n",
      "_________________________________________________________________\n",
      "Layer (type)                 Output Shape              Param #   \n",
      "=================================================================\n",
      "embedding (Embedding)        (None, 20, 25)            124075    \n",
      "_________________________________________________________________\n",
      "dropout (Dropout)            (None, 20, 25)            0         \n",
      "_________________________________________________________________\n",
      "conv1d (Conv1D)              (None, 20, 250)           19000     \n",
      "_________________________________________________________________\n",
      "activation (Activation)      (None, 20, 250)           0         \n",
      "_________________________________________________________________\n",
      "max_pooling1d (MaxPooling1D) (None, 10, 250)           0         \n",
      "_________________________________________________________________\n",
      "conv1d_1 (Conv1D)            (None, 10, 250)           187750    \n",
      "_________________________________________________________________\n",
      "activation_1 (Activation)    (None, 10, 250)           0         \n",
      "_________________________________________________________________\n",
      "max_pooling1d_1 (MaxPooling1 (None, 5, 250)            0         \n",
      "_________________________________________________________________\n",
      "dropout_1 (Dropout)          (None, 5, 250)            0         \n",
      "_________________________________________________________________\n",
      "conv1d_2 (Conv1D)            (None, 5, 250)            187750    \n",
      "_________________________________________________________________\n",
      "activation_2 (Activation)    (None, 5, 250)            0         \n",
      "_________________________________________________________________\n",
      "max_pooling1d_2 (MaxPooling1 (None, 2, 250)            0         \n",
      "_________________________________________________________________\n",
      "flatten (Flatten)            (None, 500)               0         \n",
      "_________________________________________________________________\n",
      "dense (Dense)                (None, 250)               125250    \n",
      "_________________________________________________________________\n",
      "dropout_2 (Dropout)          (None, 250)               0         \n",
      "_________________________________________________________________\n",
      "activation_3 (Activation)    (None, 250)               0         \n",
      "_________________________________________________________________\n",
      "dense_1 (Dense)              (None, 1)                 251       \n",
      "_________________________________________________________________\n",
      "activation_4 (Activation)    (None, 1)                 0         \n",
      "=================================================================\n",
      "Total params: 644,076\n",
      "Trainable params: 644,076\n",
      "Non-trainable params: 0\n",
      "_________________________________________________________________\n",
      "WARNING:tensorflow:From C:\\Users\\Pluto\\AppData\\Local\\Continuum\\anaconda3\\lib\\site-packages\\tensorflow\\python\\ops\\math_grad.py:1250: add_dispatch_support.<locals>.wrapper (from tensorflow.python.ops.array_ops) is deprecated and will be removed in a future version.\n",
      "Instructions for updating:\n",
      "Use tf.where in 2.0, which has the same broadcast rule as np.where\n",
      "Train on 5838 samples, validate on 730 samples\n",
      "Epoch 1/100\n",
      "5838/5838 [==============================] - 16s 3ms/sample - loss: 3.0211e-07 - accuracy: 0.1216 - val_loss: 3.0243e-07 - val_accuracy: 0.1301\n",
      "Epoch 2/100\n",
      "5838/5838 [==============================] - 10s 2ms/sample - loss: 3.0211e-07 - accuracy: 0.1216 - val_loss: 3.0243e-07 - val_accuracy: 0.1301\n",
      "Epoch 3/100\n",
      "5838/5838 [==============================] - 9s 2ms/sample - loss: 3.0211e-07 - accuracy: 0.1218 - val_loss: 3.0243e-07 - val_accuracy: 0.1301\n",
      "Epoch 4/100\n",
      "5838/5838 [==============================] - 10s 2ms/sample - loss: 3.0211e-07 - accuracy: 0.1196 - val_loss: 3.0243e-07 - val_accuracy: 0.1301\n",
      "Epoch 5/100\n",
      "5838/5838 [==============================] - 11s 2ms/sample - loss: 3.0211e-07 - accuracy: 0.1216 - val_loss: 3.0243e-07 - val_accuracy: 0.1301\n",
      "Epoch 6/100\n",
      "5838/5838 [==============================] - 9s 2ms/sample - loss: 3.0211e-07 - accuracy: 0.1216 - val_loss: 3.0243e-07 - val_accuracy: 0.1301\n",
      "Epoch 7/100\n",
      "5838/5838 [==============================] - 9s 1ms/sample - loss: 3.0211e-07 - accuracy: 0.1208 - val_loss: 3.0243e-07 - val_accuracy: 0.1301\n",
      "Epoch 8/100\n",
      "5838/5838 [==============================] - 9s 1ms/sample - loss: 3.0211e-07 - accuracy: 0.1208 - val_loss: 3.0243e-07 - val_accuracy: 0.1301\n",
      "Epoch 9/100\n",
      "5838/5838 [==============================] - 9s 2ms/sample - loss: 3.0211e-07 - accuracy: 0.1213 - val_loss: 3.0243e-07 - val_accuracy: 0.1301215e\n",
      "Epoch 10/100\n",
      "5838/5838 [==============================] - 9s 1ms/sample - loss: 3.0211e-07 - accuracy: 0.1216 - val_loss: 3.0243e-07 - val_accuracy: 0.1301\n",
      "Epoch 11/100\n",
      "5838/5838 [==============================] - 9s 1ms/sample - loss: 3.0211e-07 - accuracy: 0.1226 - val_loss: 3.0243e-07 - val_accuracy: 0.1301oss:\n",
      "Epoch 12/100\n",
      "5838/5838 [==============================] - 9s 1ms/sample - loss: 3.0211e-07 - accuracy: 0.1228 - val_loss: 3.0243e-07 - val_accuracy: 0.1301\n",
      "Epoch 13/100\n",
      "5838/5838 [==============================] - 9s 1ms/sample - loss: 3.0211e-07 - accuracy: 0.1238 - val_loss: 3.0243e-07 - val_accuracy: 0.1301\n",
      "Epoch 14/100\n",
      "5838/5838 [==============================] - 8s 1ms/sample - loss: 3.0211e-07 - accuracy: 0.1226 - val_loss: 3.0243e-07 - val_accuracy: 0.1301\n",
      "Epoch 15/100\n",
      "5838/5838 [==============================] - 8s 1ms/sample - loss: 3.0211e-07 - accuracy: 0.1233 - val_loss: 3.0243e-07 - val_accuracy: 0.1301\n",
      "Epoch 16/100\n",
      "5838/5838 [==============================] - 9s 2ms/sample - loss: 3.0211e-07 - accuracy: 0.1209 - val_loss: 3.0243e-07 - val_accuracy: 0.1301\n",
      "Epoch 17/100\n",
      "5838/5838 [==============================] - 8s 1ms/sample - loss: 3.0211e-07 - accuracy: 0.1208 - val_loss: 3.0243e-07 - val_accuracy: 0.1301\n",
      "Epoch 18/100\n",
      "5838/5838 [==============================] - 8s 1ms/sample - loss: 3.0211e-07 - accuracy: 0.1250 - val_loss: 3.0243e-07 - val_accuracy: 0.1301\n",
      "Epoch 19/100\n",
      "5838/5838 [==============================] - 6s 1ms/sample - loss: 3.0211e-07 - accuracy: 0.1204 - val_loss: 3.0243e-07 - val_accuracy: 0.1301\n",
      "Epoch 20/100\n",
      "5838/5838 [==============================] - 9s 1ms/sample - loss: 3.0211e-07 - accuracy: 0.1201 - val_loss: 3.0243e-07 - val_accuracy: 0.1301\n",
      "Epoch 21/100\n",
      "5838/5838 [==============================] - 9s 1ms/sample - loss: 3.0211e-07 - accuracy: 0.1235 - val_loss: 3.0243e-07 - val_accuracy: 0.1301\n",
      "Epoch 22/100\n",
      "5838/5838 [==============================] - 8s 1ms/sample - loss: 3.0211e-07 - accuracy: 0.1204 - val_loss: 3.0243e-07 - val_accuracy: 0.1301\n",
      "Epoch 23/100\n",
      "5838/5838 [==============================] - 8s 1ms/sample - loss: 3.0211e-07 - accuracy: 0.1208 - val_loss: 3.0243e-07 - val_accuracy: 0.1301\n",
      "Epoch 24/100\n",
      "5838/5838 [==============================] - 8s 1ms/sample - loss: 3.0211e-07 - accuracy: 0.1230 - val_loss: 3.0243e-07 - val_accuracy: 0.1301\n",
      "Epoch 25/100\n",
      "5838/5838 [==============================] - 8s 1ms/sample - loss: 3.0211e-07 - accuracy: 0.1225 - val_loss: 3.0243e-07 - val_accuracy: 0.1301\n",
      "Epoch 26/100\n",
      "5838/5838 [==============================] - 8s 1ms/sample - loss: 3.0211e-07 - accuracy: 0.1216 - val_loss: 3.0243e-07 - val_accuracy: 0.1301\n",
      "Epoch 27/100\n",
      "5838/5838 [==============================] - 10s 2ms/sample - loss: 3.0211e-07 - accuracy: 0.1206 - val_loss: 3.0243e-07 - val_accuracy: 0.1301\n",
      "Epoch 28/100\n",
      "5838/5838 [==============================] - 10s 2ms/sample - loss: 3.0211e-07 - accuracy: 0.1228 - val_loss: 3.0243e-07 - val_accuracy: 0.1301\n"
     ]
    }
   ],
   "source": [
    "max_features = 4963\n",
    "embedding_dims = 25\n",
    "maxlen = 20\n",
    "filters =250\n",
    "kernel_size = 3\n",
    "hidden_dims = 250\n",
    "batch_size = 128\n",
    "epochs = 100\n",
    "\n",
    "\n",
    "model = keras.Sequential(\n",
    "    [\n",
    "        keras.layers.Embedding(max_features,\n",
    "                    embedding_dims,\n",
    "                    input_length=maxlen),\n",
    "        keras.layers.Dropout(0.2),\n",
    "        \n",
    "        keras.layers.Conv1D(filters,\n",
    "                 kernel_size,\n",
    "                 padding='same',\n",
    "                 activation='relu',\n",
    "                 strides=1,\n",
    "                ),\n",
    "        \n",
    "        keras.layers.Activation('relu'),\n",
    "        keras.layers.MaxPooling1D(),\n",
    "        \n",
    "        \n",
    "        keras.layers.Conv1D(filters,\n",
    "                 kernel_size,\n",
    "                 padding='same',\n",
    "                 activation='relu',\n",
    "                 strides=1),\n",
    "        keras.layers.Activation('relu'),\n",
    "        keras.layers.MaxPooling1D(),\n",
    "        \n",
    "        keras.layers.Dropout(0.2),\n",
    "        \n",
    "                \n",
    "        keras.layers.Conv1D(filters,\n",
    "                 kernel_size,\n",
    "                 padding='same',\n",
    "                 activation='relu',\n",
    "                 strides=1),\n",
    "        keras.layers.Activation('relu'),\n",
    "        keras.layers.MaxPooling1D(),\n",
    "        \n",
    "        \n",
    "        keras.layers.Flatten(),\n",
    "        keras.layers.Dense(hidden_dims),\n",
    "        keras.layers.Dropout(0.2),\n",
    "        keras.layers.Activation('relu'),\n",
    "        keras.layers.Dense(1),\n",
    "        keras.layers.Activation('sigmoid'),\n",
    "        \n",
    "    ]\n",
    "\n",
    ")\n",
    "opt = keras.optimizers.Adam(learning_rate=0.01)\n",
    "model.compile(loss='categorical_crossentropy',\n",
    "              optimizer=opt,\n",
    "              metrics=['accuracy'])\n",
    "model.summary()\n",
    "\n",
    "model.fit(train_x, train_Y,\n",
    "          batch_size=batch_size,\n",
    "          epochs=epochs,\n",
    "          validation_data=(validate_x, validate_Y))\n"
   ]
  },
  {
   "cell_type": "code",
   "execution_count": null,
   "metadata": {},
   "outputs": [],
   "source": [
    "\n"
   ]
  }
 ],
 "metadata": {
  "kernelspec": {
   "display_name": "Python 3",
   "language": "python",
   "name": "python3"
  },
  "language_info": {
   "codemirror_mode": {
    "name": "ipython",
    "version": 3
   },
   "file_extension": ".py",
   "mimetype": "text/x-python",
   "name": "python",
   "nbconvert_exporter": "python",
   "pygments_lexer": "ipython3",
   "version": "3.7.3"
  }
 },
 "nbformat": 4,
 "nbformat_minor": 2
}
